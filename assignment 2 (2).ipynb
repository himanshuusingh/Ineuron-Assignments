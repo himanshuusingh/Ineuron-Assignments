{
 "cells": [
  {
   "cell_type": "code",
   "execution_count": 2,
   "id": "190d325c",
   "metadata": {},
   "outputs": [
    {
     "name": "stdout",
     "output_type": "stream",
     "text": [
      "Enter the length in km:10\n",
      "Convert km to mile 6.21371\n"
     ]
    }
   ],
   "source": [
    "d = float (input(\"Enter the length in km:\"))\n",
    "def kmToMile():\n",
    "    return d * 0.621371\n",
    "result = kmToMile()\n",
    "print(\"Convert km to mile\",result)"
   ]
  },
  {
   "cell_type": "code",
   "execution_count": 26,
   "id": "74db5e58",
   "metadata": {},
   "outputs": [
    {
     "name": "stdout",
     "output_type": "stream",
     "text": [
      "value in Fahrenit 68.0\n"
     ]
    }
   ],
   "source": [
    "C = float(input(\"Enter temp in celsius:\"))\n",
    "def CtoF():\n",
    "    F = (C*9/5)+32\n",
    "    return F\n",
    "fahr =  CtoF()\n",
    "print(\"value in Fahrenit\",fahr)"
   ]
  },
  {
   "cell_type": "code",
   "execution_count": 29,
   "id": "8820109d",
   "metadata": {},
   "outputs": [
    {
     "name": "stdout",
     "output_type": "stream",
     "text": [
      "Enter the year:2022\n",
      "Enter the month:8\n",
      "    August 2022\n",
      "Mo Tu We Th Fr Sa Su\n",
      " 1  2  3  4  5  6  7\n",
      " 8  9 10 11 12 13 14\n",
      "15 16 17 18 19 20 21\n",
      "22 23 24 25 26 27 28\n",
      "29 30 31\n",
      "\n"
     ]
    }
   ],
   "source": [
    "import calendar\n",
    "yy = int(input(\"Enter the year:\"))\n",
    "mm = int(input(\"Enter the month:\"))\n",
    "print(calendar.month(yy,mm))"
   ]
  },
  {
   "cell_type": "code",
   "execution_count": 1,
   "id": "ef6c5b85",
   "metadata": {},
   "outputs": [
    {
     "name": "stdout",
     "output_type": "stream",
     "text": [
      "Enter a: 12\n",
      "Enter b: 8\n",
      "Enter c: 4\n",
      "The solution are (-0.3333333333333333-0.47140452079103173j) and (-0.3333333333333333+0.47140452079103173j)\n"
     ]
    }
   ],
   "source": [
    "import cmath  \n",
    "a = float(input('Enter a: '))  \n",
    "b = float(input('Enter b: '))  \n",
    "c = float(input('Enter c: '))  \n",
    "  \n",
    "# calculate the discriminant  \n",
    "d = (b**2) - (4*a*c)  \n",
    "  \n",
    "# find two solutions  \n",
    "sol1 = (-b-cmath.sqrt(d))/(2*a)  \n",
    "sol2 = (-b+cmath.sqrt(d))/(2*a)  \n",
    "print('The solution are {0} and {1}'.format(sol1,sol2))   "
   ]
  },
  {
   "cell_type": "code",
   "execution_count": 2,
   "id": "730e7f12",
   "metadata": {},
   "outputs": [
    {
     "name": "stdout",
     "output_type": "stream",
     "text": [
      "enter first number3\n",
      "enter second number4\n",
      "Before swapping 3 4\n",
      "After swapping 4 3\n"
     ]
    }
   ],
   "source": [
    "a = int(input(\"enter first number\"))\n",
    "b = int(input(\"enter second number\"))\n",
    "def swapnumbers(a,b):\n",
    "    print(\"Before swapping\",a,b)\n",
    "    a = a+b\n",
    "    b = a-b\n",
    "    a = a-b\n",
    "    print(\"After swapping\",a,b)\n",
    "swapnumbers(a,b)\n"
   ]
  }
 ],
 "metadata": {
  "kernelspec": {
   "display_name": "Python 3 (ipykernel)",
   "language": "python",
   "name": "python3"
  },
  "language_info": {
   "codemirror_mode": {
    "name": "ipython",
    "version": 3
   },
   "file_extension": ".py",
   "mimetype": "text/x-python",
   "name": "python",
   "nbconvert_exporter": "python",
   "pygments_lexer": "ipython3",
   "version": "3.9.7"
  }
 },
 "nbformat": 4,
 "nbformat_minor": 5
}
