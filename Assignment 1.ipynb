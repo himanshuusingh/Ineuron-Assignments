{
 "cells": [
  {
   "cell_type": "markdown",
   "id": "ee97b14d",
   "metadata": {},
   "source": [
    "Q .In the below elements which of them are values or an expression? eg:- values can be integer or string and expressions will be mathematical operators.\n",
    "Ans- 1. *  - Expression as its mathematical operation for multiplication\n",
    "     2. 'hello' - Value as it is a string\n",
    "     3.-87.8 - Value (integer)\n",
    "     4.-  - Expression\n",
    "     5./ - Expression\n",
    "     6.+ - Expression\t\n",
    "     7.6 - value\n",
    "     \n",
    "Q-2. What is the difference between string and variable? \n",
    "\n",
    "Ans-  A string is a type of variable. Variables can be of several types like integer, floating point, string, boolean.\n",
    "A simple example would be:\n",
    "\n",
    "a = 1 \n",
    "name = \"Bob\" \n",
    "rich = True \n",
    "In the code example we have an integer, string and boolean. All of these are variables. String is just a type of variable.\n",
    "\n",
    "Q-3. Describe three different data types ?\n",
    "Ans. \n",
    "int data type: We can use int data type to represent integer values (whole numbers). eg int a =1456\n",
    "float data type: We can use float data type to represent floating point values (decimal values) eg float b = 3.1456\n",
    "complex data type: Complex number is represented by complex class. It is specified as (real part) + (imaginary part)j eg. complex y = 4i+5j\n",
    "\n",
    "4. What is an expression made up of? What do all expressions do?\n",
    "Ans: An expression is a combination of values, variables, operators, and calls to functions. Expressions need to be evaluated. If we ask Python to print an expression, the interpreter evaluates the expression and displays the result.\n"
   ]
  },
  {
   "cell_type": "code",
   "execution_count": 1,
   "id": "754a65a9",
   "metadata": {},
   "outputs": [
    {
     "data": {
      "text/plain": [
       "40"
      ]
     },
     "execution_count": 1,
     "metadata": {},
     "output_type": "execute_result"
    }
   ],
   "source": [
    "6*10+20-40 # Is an Expression, The Python Interpreter Evaluates it to 40"
   ]
  },
  {
   "cell_type": "markdown",
   "id": "a51709a5",
   "metadata": {},
   "source": [
    "Q5.This assignment statements, like spam = 10. What is the difference between an expression and a statement?\n",
    "Ans: An expression is a combination of values, variables, and operators.When we type an expression at the prompt, the interpreter evaluates it, which means that it finds the value of the expression.\n",
    "\n",
    "eg: 4*5+20-40 is an example of a statement\n",
    "\n",
    "A statement is a unit of code that has an effect, like creating a variable or displaying a value.When we type a statement, the interpreter executes it, which means that it does whatever the statement says. In general, statements don’t have values.\n",
    "\n",
    "eg: variable declaration and assignment are statements because they do not return a value"
   ]
  },
  {
   "cell_type": "code",
   "execution_count": 2,
   "id": "09a4ca44",
   "metadata": {},
   "outputs": [
    {
     "name": "stdout",
     "output_type": "stream",
     "text": [
      "Hello World !\n"
     ]
    }
   ],
   "source": [
    "#Example:\n",
    "4*5+20-40 # Is a Expression\n",
    "courseName = 'INeuron FullStack DataScience' # Is a Statement\n",
    "print(\"Hello World !\") # Is a Expression Statement"
   ]
  },
  {
   "cell_type": "markdown",
   "id": "1e991325",
   "metadata": {},
   "source": [
    "Q6.After running the following code, what does the variable bacon contain?\n",
    "bacon = 22\n",
    "bacon + 1\n",
    "\n",
    "Ans: The variable bacon is set to 22 .The expression bacon + 1 does not reassign the value in bacon (that would the case if the expression is like bacon = bacon + 1 instead of bacon + 1)"
   ]
  },
  {
   "cell_type": "code",
   "execution_count": 3,
   "id": "8cc448db",
   "metadata": {},
   "outputs": [
    {
     "name": "stdout",
     "output_type": "stream",
     "text": [
      "22\n"
     ]
    }
   ],
   "source": [
    "bacon = 22\n",
    "bacon + 1\n",
    "print(bacon)"
   ]
  },
  {
   "cell_type": "markdown",
   "id": "e026fe34",
   "metadata": {},
   "source": [
    "Q7.What should the values of the following two terms be?\n",
    "'spam'+'spamspam'\n",
    "'spam'*3\n",
    "\n",
    "Ans: Both expressions evaluate to the string 'spamspamspam' Where as the first expression follows String Concatentation and the second expression follows String Multiplication"
   ]
  },
  {
   "cell_type": "code",
   "execution_count": 4,
   "id": "e66a498b",
   "metadata": {},
   "outputs": [
    {
     "name": "stdout",
     "output_type": "stream",
     "text": [
      "spamspamspam\n",
      "spamspamspam\n"
     ]
    }
   ],
   "source": [
    "print('spam'+'spamspam') # string concatenation\n",
    "print('spam'*3) # string multiplication"
   ]
  },
  {
   "cell_type": "markdown",
   "id": "655ad3b2",
   "metadata": {},
   "source": [
    "Q8. Why is eggs a valid variable name while 100 is invalid?\n",
    "Ans . The python rules for naming a variable are :-\n",
    "Variable name must start with a letter or the underscore character.\n",
    "Variable name cannot start with a number.\n",
    "Variable name can only contain alpha-numeric characters and underscores (A-z, 0-9, & _ ).\n",
    "Variable names are case-sensitive (name, INEURON and ineuron are three different variables).\n",
    "The reserved words(keywords) cannot be used naming the variable.As per python,Variable names cannot begin with a number. Therefore 100 is invalid. "
   ]
  },
  {
   "cell_type": "code",
   "execution_count": 5,
   "id": "382b2765",
   "metadata": {},
   "outputs": [
    {
     "name": "stdout",
     "output_type": "stream",
     "text": [
      "100\n"
     ]
    }
   ],
   "source": [
    "eggs = 100 \n",
    "print (eggs)"
   ]
  },
  {
   "cell_type": "markdown",
   "id": "201c2361",
   "metadata": {},
   "source": [
    "Q9.What three functions can be used to get the integer,floating-point number,or string version of a value?\n",
    "Ans: The int(),float(),and str() functions will evaluate to the integer,floating-point number,string version of the value passed to them."
   ]
  },
  {
   "cell_type": "code",
   "execution_count": 8,
   "id": "01355e8d",
   "metadata": {},
   "outputs": [
    {
     "name": "stdout",
     "output_type": "stream",
     "text": [
      "int(10.0) ->  10\n",
      "float(10) ->  10.0\n",
      "str(10) ->  10\n"
     ]
    }
   ],
   "source": [
    "print('int(10.0) -> ',int(10.0)) # int() function converts given input to int\n",
    "print('float(10) -> ',float(10)) # float() function converts given input to float\n",
    "print('str(10) -> ',str(10)) # str() function converts given input to string"
   ]
  },
  {
   "cell_type": "markdown",
   "id": "10cbae7e",
   "metadata": {},
   "source": [
    "Q10.Why does this expression cause an error? how can you fix it?\n",
    "'I have eaten ' + 99 + 'burritos.'\n",
    "\n",
    "Ans: This cause of error is 99.because 99 is not a string. 99 must be typecasted to a string to fix this error. the correct way is:\n",
    "Input: 'I have eaten ' + str(99) + 'burritos.'\n",
    "Output: 'I have eaten 99 burritos.'"
   ]
  },
  {
   "cell_type": "code",
   "execution_count": 9,
   "id": "07ab618a",
   "metadata": {},
   "outputs": [
    {
     "name": "stdout",
     "output_type": "stream",
     "text": [
      "I have eaten 99 burritos\n"
     ]
    }
   ],
   "source": [
    "print('I have eaten '+str(99)+' burritos')\n"
   ]
  }
 ],
 "metadata": {
  "kernelspec": {
   "display_name": "Python 3 (ipykernel)",
   "language": "python",
   "name": "python3"
  },
  "language_info": {
   "codemirror_mode": {
    "name": "ipython",
    "version": 3
   },
   "file_extension": ".py",
   "mimetype": "text/x-python",
   "name": "python",
   "nbconvert_exporter": "python",
   "pygments_lexer": "ipython3",
   "version": "3.9.7"
  }
 },
 "nbformat": 4,
 "nbformat_minor": 5
}
