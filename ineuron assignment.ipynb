{
 "cells": [
  {
   "cell_type": "code",
   "execution_count": 1,
   "id": "0a83a619",
   "metadata": {},
   "outputs": [
    {
     "name": "stdout",
     "output_type": "stream",
     "text": [
      "hello world\n"
     ]
    }
   ],
   "source": [
    "print(\"hello world\")"
   ]
  },
  {
   "cell_type": "code",
   "execution_count": null,
   "id": "528465ad",
   "metadata": {},
   "outputs": [],
   "source": [
    "Write a Python program to do arithmetical operations addition and division.?"
   ]
  },
  {
   "cell_type": "code",
   "execution_count": 19,
   "id": "632fef7f",
   "metadata": {},
   "outputs": [
    {
     "name": "stdout",
     "output_type": "stream",
     "text": [
      "value of a6\n",
      "value of b1.5\n",
      "7.5\n",
      "4.0\n"
     ]
    }
   ],
   "source": [
    "a = float (input(\"value of a\"))\n",
    "b = float (input(\"value of b\"))\n",
    "sum  =  a+ b\n",
    "divide = a/b\n",
    "print (sum)\n",
    "print(divide)\n",
    "\n",
    "\n",
    "    "
   ]
  },
  {
   "cell_type": "code",
   "execution_count": null,
   "id": "fb1606f2",
   "metadata": {},
   "outputs": [],
   "source": [
    "Write a Python program to find the area of a triangle?"
   ]
  },
  {
   "cell_type": "code",
   "execution_count": 30,
   "id": "bad3c6f7",
   "metadata": {},
   "outputs": [
    {
     "name": "stdout",
     "output_type": "stream",
     "text": [
      "value of b:10\n",
      "value of h:20\n",
      "Area of Triangle: 100.0\n"
     ]
    }
   ],
   "source": [
    "b = float(input(\"value of b:\"))\n",
    "h = float(input(\"value of h:\"))\n",
    "def Area(b,h):\n",
    "    return(1/2)*b*h\n",
    "c = Area(b,h)\n",
    "print(\"Area of Triangle:\",c)"
   ]
  },
  {
   "cell_type": "code",
   "execution_count": null,
   "id": "48c94658",
   "metadata": {},
   "outputs": [],
   "source": [
    "Write a Python program to swap two variables?"
   ]
  },
  {
   "cell_type": "code",
   "execution_count": 31,
   "id": "a2bb3735",
   "metadata": {},
   "outputs": [
    {
     "name": "stdout",
     "output_type": "stream",
     "text": [
      "value of a:10\n",
      "value of b:15\n",
      "the value after swapping a =: 15.0\n",
      "the value after swapping b =: 10.0\n"
     ]
    }
   ],
   "source": [
    "a = float(input(\"value of a:\"))\n",
    "b = float(input(\"value of b:\"))\n",
    "temp = a\n",
    "a = b\n",
    "b = temp\n",
    "print(\"the value after swapping a =:\",a)\n",
    "print(\"the value after swapping b =:\",b)\n",
    "\n",
    "\n"
   ]
  },
  {
   "cell_type": "code",
   "execution_count": null,
   "id": "b3d08d0e",
   "metadata": {},
   "outputs": [],
   "source": [
    "Write a Python program to generate a random number?"
   ]
  },
  {
   "cell_type": "markdown",
   "id": "419c0f7b",
   "metadata": {},
   "source": [
    "import random  \n",
    "n = random.random()  \n",
    "print(n) "
   ]
  }
 ],
 "metadata": {
  "kernelspec": {
   "display_name": "Python 3 (ipykernel)",
   "language": "python",
   "name": "python3"
  },
  "language_info": {
   "codemirror_mode": {
    "name": "ipython",
    "version": 3
   },
   "file_extension": ".py",
   "mimetype": "text/x-python",
   "name": "python",
   "nbconvert_exporter": "python",
   "pygments_lexer": "ipython3",
   "version": "3.9.7"
  }
 },
 "nbformat": 4,
 "nbformat_minor": 5
}
